{
 "cells": [
  {
   "cell_type": "code",
   "execution_count": 1,
   "metadata": {},
   "outputs": [
    {
     "data": {
      "text/html": [
       "<div>\n",
       "<style scoped>\n",
       "    .dataframe tbody tr th:only-of-type {\n",
       "        vertical-align: middle;\n",
       "    }\n",
       "\n",
       "    .dataframe tbody tr th {\n",
       "        vertical-align: top;\n",
       "    }\n",
       "\n",
       "    .dataframe thead th {\n",
       "        text-align: right;\n",
       "    }\n",
       "</style>\n",
       "<table border=\"1\" class=\"dataframe\">\n",
       "  <thead>\n",
       "    <tr style=\"text-align: right;\">\n",
       "      <th></th>\n",
       "      <th>Date/Time</th>\n",
       "      <th>Trip ID</th>\n",
       "      <th>Type</th>\n",
       "      <th>Base Fare</th>\n",
       "      <th>Additional Pickups</th>\n",
       "      <th>Distance</th>\n",
       "      <th>Time</th>\n",
       "      <th>Min Fare Supplement</th>\n",
       "      <th>Cancellation</th>\n",
       "      <th>Tip</th>\n",
       "      <th>Surge</th>\n",
       "      <th>Wait Time</th>\n",
       "      <th>Long Pickup Fee</th>\n",
       "      <th>Optional Insurance</th>\n",
       "      <th>Toll</th>\n",
       "      <th>Consecutive Trips Promotion</th>\n",
       "      <th>Quest Promotion</th>\n",
       "      <th>Total</th>\n",
       "    </tr>\n",
       "  </thead>\n",
       "  <tbody>\n",
       "    <tr>\n",
       "      <td>0</td>\n",
       "      <td>Wednesday, November 20, 2019 5:30 PM</td>\n",
       "      <td>4972f060-1d7e-4d14-9d4a-163b2ff30c06</td>\n",
       "      <td>UberX</td>\n",
       "      <td>$1.76</td>\n",
       "      <td>NaN</td>\n",
       "      <td>$0.46</td>\n",
       "      <td>$1.43</td>\n",
       "      <td>$0.34</td>\n",
       "      <td>NaN</td>\n",
       "      <td>NaN</td>\n",
       "      <td>$4.00</td>\n",
       "      <td>NaN</td>\n",
       "      <td>NaN</td>\n",
       "      <td>($0.02)</td>\n",
       "      <td>NaN</td>\n",
       "      <td>NaN</td>\n",
       "      <td>NaN</td>\n",
       "      <td>$7.97</td>\n",
       "    </tr>\n",
       "    <tr>\n",
       "      <td>1</td>\n",
       "      <td>Tuesday, November 19, 2019 7:07 PM</td>\n",
       "      <td>a5be1112-4114-48b7-bf81-109f389526fd</td>\n",
       "      <td>UberX</td>\n",
       "      <td>$1.76</td>\n",
       "      <td>NaN</td>\n",
       "      <td>$10.87</td>\n",
       "      <td>$6.70</td>\n",
       "      <td>NaN</td>\n",
       "      <td>NaN</td>\n",
       "      <td>NaN</td>\n",
       "      <td>$6.92</td>\n",
       "      <td>NaN</td>\n",
       "      <td>NaN</td>\n",
       "      <td>($0.56)</td>\n",
       "      <td>NaN</td>\n",
       "      <td>NaN</td>\n",
       "      <td>NaN</td>\n",
       "      <td>$25.69</td>\n",
       "    </tr>\n",
       "    <tr>\n",
       "      <td>2</td>\n",
       "      <td>Saturday, November 23, 2019 1:40 PM</td>\n",
       "      <td>01388754-4f19-47a3-9995-b023884508ad</td>\n",
       "      <td>POOL</td>\n",
       "      <td>NaN</td>\n",
       "      <td>$1.00</td>\n",
       "      <td>$6.48</td>\n",
       "      <td>$4.62</td>\n",
       "      <td>NaN</td>\n",
       "      <td>NaN</td>\n",
       "      <td>NaN</td>\n",
       "      <td>NaN</td>\n",
       "      <td>NaN</td>\n",
       "      <td>NaN</td>\n",
       "      <td>($0.38)</td>\n",
       "      <td>NaN</td>\n",
       "      <td>NaN</td>\n",
       "      <td>NaN</td>\n",
       "      <td>$11.72</td>\n",
       "    </tr>\n",
       "    <tr>\n",
       "      <td>3</td>\n",
       "      <td>Monday, November 18, 2019 2:06 PM</td>\n",
       "      <td>11767ed9-a329-4810-b506-6c2694b1a99f</td>\n",
       "      <td>UberX</td>\n",
       "      <td>$1.32</td>\n",
       "      <td>NaN</td>\n",
       "      <td>$6.81</td>\n",
       "      <td>$5.23</td>\n",
       "      <td>NaN</td>\n",
       "      <td>NaN</td>\n",
       "      <td>NaN</td>\n",
       "      <td>$1.00</td>\n",
       "      <td>NaN</td>\n",
       "      <td>NaN</td>\n",
       "      <td>($0.40)</td>\n",
       "      <td>NaN</td>\n",
       "      <td>NaN</td>\n",
       "      <td>NaN</td>\n",
       "      <td>$13.96</td>\n",
       "    </tr>\n",
       "    <tr>\n",
       "      <td>4</td>\n",
       "      <td>Tuesday, November 19, 2019 3:11 PM</td>\n",
       "      <td>77522fa3-e454-40f4-bd48-31ffe8e04caf</td>\n",
       "      <td>POOL</td>\n",
       "      <td>$1.76</td>\n",
       "      <td>NaN</td>\n",
       "      <td>$0.75</td>\n",
       "      <td>$1.75</td>\n",
       "      <td>$0.09</td>\n",
       "      <td>NaN</td>\n",
       "      <td>NaN</td>\n",
       "      <td>NaN</td>\n",
       "      <td>NaN</td>\n",
       "      <td>NaN</td>\n",
       "      <td>($0.04)</td>\n",
       "      <td>NaN</td>\n",
       "      <td>NaN</td>\n",
       "      <td>NaN</td>\n",
       "      <td>$4.31</td>\n",
       "    </tr>\n",
       "  </tbody>\n",
       "</table>\n",
       "</div>"
      ],
      "text/plain": [
       "                              Date/Time                               Trip ID  \\\n",
       "0  Wednesday, November 20, 2019 5:30 PM  4972f060-1d7e-4d14-9d4a-163b2ff30c06   \n",
       "1    Tuesday, November 19, 2019 7:07 PM  a5be1112-4114-48b7-bf81-109f389526fd   \n",
       "2   Saturday, November 23, 2019 1:40 PM  01388754-4f19-47a3-9995-b023884508ad   \n",
       "3     Monday, November 18, 2019 2:06 PM  11767ed9-a329-4810-b506-6c2694b1a99f   \n",
       "4    Tuesday, November 19, 2019 3:11 PM  77522fa3-e454-40f4-bd48-31ffe8e04caf   \n",
       "\n",
       "    Type Base Fare Additional Pickups Distance    Time Min Fare Supplement  \\\n",
       "0  UberX    $1.76                 NaN   $0.46   $1.43               $0.34    \n",
       "1  UberX    $1.76                 NaN  $10.87   $6.70                  NaN   \n",
       "2   POOL       NaN             $1.00    $6.48   $4.62                  NaN   \n",
       "3  UberX    $1.32                 NaN   $6.81   $5.23                  NaN   \n",
       "4   POOL    $1.76                 NaN   $0.75   $1.75               $0.09    \n",
       "\n",
       "  Cancellation  Tip   Surge Wait Time Long Pickup Fee Optional Insurance Toll  \\\n",
       "0          NaN  NaN  $4.00        NaN             NaN            ($0.02)  NaN   \n",
       "1          NaN  NaN  $6.92        NaN             NaN            ($0.56)  NaN   \n",
       "2          NaN  NaN     NaN       NaN             NaN            ($0.38)  NaN   \n",
       "3          NaN  NaN  $1.00        NaN             NaN            ($0.40)  NaN   \n",
       "4          NaN  NaN     NaN       NaN             NaN            ($0.04)  NaN   \n",
       "\n",
       "   Consecutive Trips Promotion  Quest Promotion    Total  \n",
       "0                          NaN              NaN   $7.97   \n",
       "1                          NaN              NaN  $25.69   \n",
       "2                          NaN              NaN  $11.72   \n",
       "3                          NaN              NaN  $13.96   \n",
       "4                          NaN              NaN   $4.31   "
      ]
     },
     "execution_count": 1,
     "metadata": {},
     "output_type": "execute_result"
    }
   ],
   "source": [
    "import pandas as pd\n",
    "import numpy as np\n",
    "from scipy.stats import norm\n",
    "import matplotlib.pyplot as plt\n",
    "import seaborn as sns\n",
    "from scipy.stats import pearsonr\n",
    "%matplotlib inline\n",
    "df=pd.read_csv(r'C:\\Users\\pritam\\Desktop\\Income.csv')\n",
    "df.head()"
   ]
  },
  {
   "cell_type": "code",
   "execution_count": 2,
   "metadata": {},
   "outputs": [],
   "source": [
    "# removing the $ sign for further computation\n",
    "df['Base Fare']=df['Base Fare'].str.replace('$','')"
   ]
  },
  {
   "cell_type": "code",
   "execution_count": 3,
   "metadata": {},
   "outputs": [],
   "source": [
    "#removing dollar sign\n",
    "df['Additional Pickups']=df['Additional Pickups'].str.replace('$','')"
   ]
  },
  {
   "cell_type": "code",
   "execution_count": 4,
   "metadata": {},
   "outputs": [],
   "source": [
    "# removing dollar sign\n",
    "df['Distance']=df['Distance'].str.replace('$','')"
   ]
  },
  {
   "cell_type": "code",
   "execution_count": 5,
   "metadata": {},
   "outputs": [],
   "source": [
    "# removing dollar sign\n",
    "df['Time']=df['Time'].str.replace('$','')"
   ]
  },
  {
   "cell_type": "code",
   "execution_count": 6,
   "metadata": {},
   "outputs": [],
   "source": [
    "# removing dollar sign\n",
    "df['Min Fare Supplement']=df['Min Fare Supplement'].str.replace('$','')"
   ]
  },
  {
   "cell_type": "code",
   "execution_count": 7,
   "metadata": {},
   "outputs": [],
   "source": [
    "# replacing dollar sign with empty string\n",
    "df['Tip']=df['Tip'].str.replace(\"$\",'')"
   ]
  },
  {
   "cell_type": "code",
   "execution_count": 8,
   "metadata": {},
   "outputs": [],
   "source": [
    "# replacing dollar sign with empty string\n",
    "df['Surge']=df['Surge'].str.replace('$','')"
   ]
  },
  {
   "cell_type": "code",
   "execution_count": 9,
   "metadata": {},
   "outputs": [],
   "source": [
    "# replacing dollar sign with empty sting\n",
    "df['Wait Time']=df['Wait Time'].str.replace('$','')"
   ]
  },
  {
   "cell_type": "code",
   "execution_count": 10,
   "metadata": {},
   "outputs": [],
   "source": [
    "# replacing $ sign\n",
    "df['Long Pickup Fee']=df['Long Pickup Fee'].str.replace('$','')"
   ]
  },
  {
   "cell_type": "code",
   "execution_count": 11,
   "metadata": {},
   "outputs": [],
   "source": [
    "# replacing non useful sign for further computation\n",
    "df['Optional Insurance']=df['Optional Insurance'].str.replace('(','').str.replace('$','').str.replace(')','')\n"
   ]
  },
  {
   "cell_type": "code",
   "execution_count": 12,
   "metadata": {},
   "outputs": [],
   "source": [
    "# replacing $ sign with empty string\n",
    "df['Total']=df['Total'].str.replace(\"$\",'')"
   ]
  },
  {
   "cell_type": "code",
   "execution_count": 13,
   "metadata": {},
   "outputs": [],
   "source": [
    "df['Toll']=df['Toll'].str.replace('$','')"
   ]
  },
  {
   "cell_type": "code",
   "execution_count": 14,
   "metadata": {},
   "outputs": [
    {
     "data": {
      "text/html": [
       "<div>\n",
       "<style scoped>\n",
       "    .dataframe tbody tr th:only-of-type {\n",
       "        vertical-align: middle;\n",
       "    }\n",
       "\n",
       "    .dataframe tbody tr th {\n",
       "        vertical-align: top;\n",
       "    }\n",
       "\n",
       "    .dataframe thead th {\n",
       "        text-align: right;\n",
       "    }\n",
       "</style>\n",
       "<table border=\"1\" class=\"dataframe\">\n",
       "  <thead>\n",
       "    <tr style=\"text-align: right;\">\n",
       "      <th></th>\n",
       "      <th>Date/Time</th>\n",
       "      <th>Trip ID</th>\n",
       "      <th>Type</th>\n",
       "      <th>Base Fare</th>\n",
       "      <th>Additional Pickups</th>\n",
       "      <th>Distance</th>\n",
       "      <th>Time</th>\n",
       "      <th>Min Fare Supplement</th>\n",
       "      <th>Cancellation</th>\n",
       "      <th>Tip</th>\n",
       "      <th>Surge</th>\n",
       "      <th>Wait Time</th>\n",
       "      <th>Long Pickup Fee</th>\n",
       "      <th>Optional Insurance</th>\n",
       "      <th>Toll</th>\n",
       "      <th>Consecutive Trips Promotion</th>\n",
       "      <th>Quest Promotion</th>\n",
       "      <th>Total</th>\n",
       "    </tr>\n",
       "  </thead>\n",
       "  <tbody>\n",
       "    <tr>\n",
       "      <td>0</td>\n",
       "      <td>False</td>\n",
       "      <td>False</td>\n",
       "      <td>False</td>\n",
       "      <td>False</td>\n",
       "      <td>True</td>\n",
       "      <td>False</td>\n",
       "      <td>False</td>\n",
       "      <td>False</td>\n",
       "      <td>True</td>\n",
       "      <td>True</td>\n",
       "      <td>False</td>\n",
       "      <td>True</td>\n",
       "      <td>True</td>\n",
       "      <td>False</td>\n",
       "      <td>True</td>\n",
       "      <td>True</td>\n",
       "      <td>True</td>\n",
       "      <td>False</td>\n",
       "    </tr>\n",
       "    <tr>\n",
       "      <td>1</td>\n",
       "      <td>False</td>\n",
       "      <td>False</td>\n",
       "      <td>False</td>\n",
       "      <td>False</td>\n",
       "      <td>True</td>\n",
       "      <td>False</td>\n",
       "      <td>False</td>\n",
       "      <td>True</td>\n",
       "      <td>True</td>\n",
       "      <td>True</td>\n",
       "      <td>False</td>\n",
       "      <td>True</td>\n",
       "      <td>True</td>\n",
       "      <td>False</td>\n",
       "      <td>True</td>\n",
       "      <td>True</td>\n",
       "      <td>True</td>\n",
       "      <td>False</td>\n",
       "    </tr>\n",
       "    <tr>\n",
       "      <td>2</td>\n",
       "      <td>False</td>\n",
       "      <td>False</td>\n",
       "      <td>False</td>\n",
       "      <td>True</td>\n",
       "      <td>False</td>\n",
       "      <td>False</td>\n",
       "      <td>False</td>\n",
       "      <td>True</td>\n",
       "      <td>True</td>\n",
       "      <td>True</td>\n",
       "      <td>True</td>\n",
       "      <td>True</td>\n",
       "      <td>True</td>\n",
       "      <td>False</td>\n",
       "      <td>True</td>\n",
       "      <td>True</td>\n",
       "      <td>True</td>\n",
       "      <td>False</td>\n",
       "    </tr>\n",
       "    <tr>\n",
       "      <td>3</td>\n",
       "      <td>False</td>\n",
       "      <td>False</td>\n",
       "      <td>False</td>\n",
       "      <td>False</td>\n",
       "      <td>True</td>\n",
       "      <td>False</td>\n",
       "      <td>False</td>\n",
       "      <td>True</td>\n",
       "      <td>True</td>\n",
       "      <td>True</td>\n",
       "      <td>False</td>\n",
       "      <td>True</td>\n",
       "      <td>True</td>\n",
       "      <td>False</td>\n",
       "      <td>True</td>\n",
       "      <td>True</td>\n",
       "      <td>True</td>\n",
       "      <td>False</td>\n",
       "    </tr>\n",
       "    <tr>\n",
       "      <td>4</td>\n",
       "      <td>False</td>\n",
       "      <td>False</td>\n",
       "      <td>False</td>\n",
       "      <td>False</td>\n",
       "      <td>True</td>\n",
       "      <td>False</td>\n",
       "      <td>False</td>\n",
       "      <td>False</td>\n",
       "      <td>True</td>\n",
       "      <td>True</td>\n",
       "      <td>True</td>\n",
       "      <td>True</td>\n",
       "      <td>True</td>\n",
       "      <td>False</td>\n",
       "      <td>True</td>\n",
       "      <td>True</td>\n",
       "      <td>True</td>\n",
       "      <td>False</td>\n",
       "    </tr>\n",
       "    <tr>\n",
       "      <td>...</td>\n",
       "      <td>...</td>\n",
       "      <td>...</td>\n",
       "      <td>...</td>\n",
       "      <td>...</td>\n",
       "      <td>...</td>\n",
       "      <td>...</td>\n",
       "      <td>...</td>\n",
       "      <td>...</td>\n",
       "      <td>...</td>\n",
       "      <td>...</td>\n",
       "      <td>...</td>\n",
       "      <td>...</td>\n",
       "      <td>...</td>\n",
       "      <td>...</td>\n",
       "      <td>...</td>\n",
       "      <td>...</td>\n",
       "      <td>...</td>\n",
       "      <td>...</td>\n",
       "    </tr>\n",
       "    <tr>\n",
       "      <td>118</td>\n",
       "      <td>False</td>\n",
       "      <td>False</td>\n",
       "      <td>False</td>\n",
       "      <td>False</td>\n",
       "      <td>True</td>\n",
       "      <td>False</td>\n",
       "      <td>False</td>\n",
       "      <td>True</td>\n",
       "      <td>True</td>\n",
       "      <td>True</td>\n",
       "      <td>True</td>\n",
       "      <td>True</td>\n",
       "      <td>True</td>\n",
       "      <td>False</td>\n",
       "      <td>True</td>\n",
       "      <td>True</td>\n",
       "      <td>True</td>\n",
       "      <td>False</td>\n",
       "    </tr>\n",
       "    <tr>\n",
       "      <td>119</td>\n",
       "      <td>False</td>\n",
       "      <td>False</td>\n",
       "      <td>False</td>\n",
       "      <td>False</td>\n",
       "      <td>True</td>\n",
       "      <td>False</td>\n",
       "      <td>False</td>\n",
       "      <td>True</td>\n",
       "      <td>True</td>\n",
       "      <td>True</td>\n",
       "      <td>True</td>\n",
       "      <td>True</td>\n",
       "      <td>True</td>\n",
       "      <td>False</td>\n",
       "      <td>True</td>\n",
       "      <td>True</td>\n",
       "      <td>True</td>\n",
       "      <td>False</td>\n",
       "    </tr>\n",
       "    <tr>\n",
       "      <td>120</td>\n",
       "      <td>False</td>\n",
       "      <td>False</td>\n",
       "      <td>False</td>\n",
       "      <td>True</td>\n",
       "      <td>False</td>\n",
       "      <td>False</td>\n",
       "      <td>False</td>\n",
       "      <td>True</td>\n",
       "      <td>True</td>\n",
       "      <td>True</td>\n",
       "      <td>True</td>\n",
       "      <td>True</td>\n",
       "      <td>True</td>\n",
       "      <td>False</td>\n",
       "      <td>True</td>\n",
       "      <td>True</td>\n",
       "      <td>True</td>\n",
       "      <td>False</td>\n",
       "    </tr>\n",
       "    <tr>\n",
       "      <td>121</td>\n",
       "      <td>False</td>\n",
       "      <td>False</td>\n",
       "      <td>False</td>\n",
       "      <td>False</td>\n",
       "      <td>True</td>\n",
       "      <td>False</td>\n",
       "      <td>False</td>\n",
       "      <td>True</td>\n",
       "      <td>True</td>\n",
       "      <td>True</td>\n",
       "      <td>True</td>\n",
       "      <td>True</td>\n",
       "      <td>True</td>\n",
       "      <td>False</td>\n",
       "      <td>True</td>\n",
       "      <td>True</td>\n",
       "      <td>True</td>\n",
       "      <td>False</td>\n",
       "    </tr>\n",
       "    <tr>\n",
       "      <td>122</td>\n",
       "      <td>False</td>\n",
       "      <td>False</td>\n",
       "      <td>False</td>\n",
       "      <td>False</td>\n",
       "      <td>True</td>\n",
       "      <td>False</td>\n",
       "      <td>False</td>\n",
       "      <td>True</td>\n",
       "      <td>True</td>\n",
       "      <td>True</td>\n",
       "      <td>False</td>\n",
       "      <td>True</td>\n",
       "      <td>True</td>\n",
       "      <td>False</td>\n",
       "      <td>True</td>\n",
       "      <td>True</td>\n",
       "      <td>True</td>\n",
       "      <td>False</td>\n",
       "    </tr>\n",
       "  </tbody>\n",
       "</table>\n",
       "<p>123 rows × 18 columns</p>\n",
       "</div>"
      ],
      "text/plain": [
       "     Date/Time  Trip ID   Type  Base Fare  Additional Pickups  Distance  \\\n",
       "0        False    False  False      False                True     False   \n",
       "1        False    False  False      False                True     False   \n",
       "2        False    False  False       True               False     False   \n",
       "3        False    False  False      False                True     False   \n",
       "4        False    False  False      False                True     False   \n",
       "..         ...      ...    ...        ...                 ...       ...   \n",
       "118      False    False  False      False                True     False   \n",
       "119      False    False  False      False                True     False   \n",
       "120      False    False  False       True               False     False   \n",
       "121      False    False  False      False                True     False   \n",
       "122      False    False  False      False                True     False   \n",
       "\n",
       "      Time  Min Fare Supplement  Cancellation   Tip  Surge  Wait Time  \\\n",
       "0    False                False          True  True  False       True   \n",
       "1    False                 True          True  True  False       True   \n",
       "2    False                 True          True  True   True       True   \n",
       "3    False                 True          True  True  False       True   \n",
       "4    False                False          True  True   True       True   \n",
       "..     ...                  ...           ...   ...    ...        ...   \n",
       "118  False                 True          True  True   True       True   \n",
       "119  False                 True          True  True   True       True   \n",
       "120  False                 True          True  True   True       True   \n",
       "121  False                 True          True  True   True       True   \n",
       "122  False                 True          True  True  False       True   \n",
       "\n",
       "     Long Pickup Fee  Optional Insurance  Toll  Consecutive Trips Promotion  \\\n",
       "0               True               False  True                         True   \n",
       "1               True               False  True                         True   \n",
       "2               True               False  True                         True   \n",
       "3               True               False  True                         True   \n",
       "4               True               False  True                         True   \n",
       "..               ...                 ...   ...                          ...   \n",
       "118             True               False  True                         True   \n",
       "119             True               False  True                         True   \n",
       "120             True               False  True                         True   \n",
       "121             True               False  True                         True   \n",
       "122             True               False  True                         True   \n",
       "\n",
       "     Quest Promotion  Total  \n",
       "0               True  False  \n",
       "1               True  False  \n",
       "2               True  False  \n",
       "3               True  False  \n",
       "4               True  False  \n",
       "..               ...    ...  \n",
       "118             True  False  \n",
       "119             True  False  \n",
       "120             True  False  \n",
       "121             True  False  \n",
       "122             True  False  \n",
       "\n",
       "[123 rows x 18 columns]"
      ]
     },
     "execution_count": 14,
     "metadata": {},
     "output_type": "execute_result"
    }
   ],
   "source": [
    "# checking null in the dataset\n",
    "df.isnull()"
   ]
  },
  {
   "cell_type": "code",
   "execution_count": 15,
   "metadata": {},
   "outputs": [],
   "source": [
    "# filling o for null(NaN) value\n",
    "df=df.fillna(0)"
   ]
  },
  {
   "cell_type": "code",
   "execution_count": 16,
   "metadata": {},
   "outputs": [
    {
     "data": {
      "text/html": [
       "<div>\n",
       "<style scoped>\n",
       "    .dataframe tbody tr th:only-of-type {\n",
       "        vertical-align: middle;\n",
       "    }\n",
       "\n",
       "    .dataframe tbody tr th {\n",
       "        vertical-align: top;\n",
       "    }\n",
       "\n",
       "    .dataframe thead th {\n",
       "        text-align: right;\n",
       "    }\n",
       "</style>\n",
       "<table border=\"1\" class=\"dataframe\">\n",
       "  <thead>\n",
       "    <tr style=\"text-align: right;\">\n",
       "      <th></th>\n",
       "      <th>Date/Time</th>\n",
       "      <th>Trip ID</th>\n",
       "      <th>Type</th>\n",
       "      <th>Base Fare</th>\n",
       "      <th>Additional Pickups</th>\n",
       "      <th>Distance</th>\n",
       "      <th>Time</th>\n",
       "      <th>Min Fare Supplement</th>\n",
       "      <th>Cancellation</th>\n",
       "      <th>Tip</th>\n",
       "      <th>Surge</th>\n",
       "      <th>Wait Time</th>\n",
       "      <th>Long Pickup Fee</th>\n",
       "      <th>Optional Insurance</th>\n",
       "      <th>Toll</th>\n",
       "      <th>Consecutive Trips Promotion</th>\n",
       "      <th>Quest Promotion</th>\n",
       "      <th>Total</th>\n",
       "    </tr>\n",
       "  </thead>\n",
       "  <tbody>\n",
       "    <tr>\n",
       "      <td>0</td>\n",
       "      <td>Wednesday, November 20, 2019 5:30 PM</td>\n",
       "      <td>4972f060-1d7e-4d14-9d4a-163b2ff30c06</td>\n",
       "      <td>UberX</td>\n",
       "      <td>1.76</td>\n",
       "      <td>0</td>\n",
       "      <td>0.46</td>\n",
       "      <td>1.43</td>\n",
       "      <td>0.34</td>\n",
       "      <td>0</td>\n",
       "      <td>0</td>\n",
       "      <td>4.00</td>\n",
       "      <td>0</td>\n",
       "      <td>0</td>\n",
       "      <td>0.02</td>\n",
       "      <td>0</td>\n",
       "      <td>0.0</td>\n",
       "      <td>0.0</td>\n",
       "      <td>7.97</td>\n",
       "    </tr>\n",
       "    <tr>\n",
       "      <td>1</td>\n",
       "      <td>Tuesday, November 19, 2019 7:07 PM</td>\n",
       "      <td>a5be1112-4114-48b7-bf81-109f389526fd</td>\n",
       "      <td>UberX</td>\n",
       "      <td>1.76</td>\n",
       "      <td>0</td>\n",
       "      <td>10.87</td>\n",
       "      <td>6.70</td>\n",
       "      <td>0</td>\n",
       "      <td>0</td>\n",
       "      <td>0</td>\n",
       "      <td>6.92</td>\n",
       "      <td>0</td>\n",
       "      <td>0</td>\n",
       "      <td>0.56</td>\n",
       "      <td>0</td>\n",
       "      <td>0.0</td>\n",
       "      <td>0.0</td>\n",
       "      <td>25.69</td>\n",
       "    </tr>\n",
       "    <tr>\n",
       "      <td>2</td>\n",
       "      <td>Saturday, November 23, 2019 1:40 PM</td>\n",
       "      <td>01388754-4f19-47a3-9995-b023884508ad</td>\n",
       "      <td>POOL</td>\n",
       "      <td>0</td>\n",
       "      <td>1.00</td>\n",
       "      <td>6.48</td>\n",
       "      <td>4.62</td>\n",
       "      <td>0</td>\n",
       "      <td>0</td>\n",
       "      <td>0</td>\n",
       "      <td>0</td>\n",
       "      <td>0</td>\n",
       "      <td>0</td>\n",
       "      <td>0.38</td>\n",
       "      <td>0</td>\n",
       "      <td>0.0</td>\n",
       "      <td>0.0</td>\n",
       "      <td>11.72</td>\n",
       "    </tr>\n",
       "    <tr>\n",
       "      <td>3</td>\n",
       "      <td>Monday, November 18, 2019 2:06 PM</td>\n",
       "      <td>11767ed9-a329-4810-b506-6c2694b1a99f</td>\n",
       "      <td>UberX</td>\n",
       "      <td>1.32</td>\n",
       "      <td>0</td>\n",
       "      <td>6.81</td>\n",
       "      <td>5.23</td>\n",
       "      <td>0</td>\n",
       "      <td>0</td>\n",
       "      <td>0</td>\n",
       "      <td>1.00</td>\n",
       "      <td>0</td>\n",
       "      <td>0</td>\n",
       "      <td>0.40</td>\n",
       "      <td>0</td>\n",
       "      <td>0.0</td>\n",
       "      <td>0.0</td>\n",
       "      <td>13.96</td>\n",
       "    </tr>\n",
       "    <tr>\n",
       "      <td>4</td>\n",
       "      <td>Tuesday, November 19, 2019 3:11 PM</td>\n",
       "      <td>77522fa3-e454-40f4-bd48-31ffe8e04caf</td>\n",
       "      <td>POOL</td>\n",
       "      <td>1.76</td>\n",
       "      <td>0</td>\n",
       "      <td>0.75</td>\n",
       "      <td>1.75</td>\n",
       "      <td>0.09</td>\n",
       "      <td>0</td>\n",
       "      <td>0</td>\n",
       "      <td>0</td>\n",
       "      <td>0</td>\n",
       "      <td>0</td>\n",
       "      <td>0.04</td>\n",
       "      <td>0</td>\n",
       "      <td>0.0</td>\n",
       "      <td>0.0</td>\n",
       "      <td>4.31</td>\n",
       "    </tr>\n",
       "    <tr>\n",
       "      <td>...</td>\n",
       "      <td>...</td>\n",
       "      <td>...</td>\n",
       "      <td>...</td>\n",
       "      <td>...</td>\n",
       "      <td>...</td>\n",
       "      <td>...</td>\n",
       "      <td>...</td>\n",
       "      <td>...</td>\n",
       "      <td>...</td>\n",
       "      <td>...</td>\n",
       "      <td>...</td>\n",
       "      <td>...</td>\n",
       "      <td>...</td>\n",
       "      <td>...</td>\n",
       "      <td>...</td>\n",
       "      <td>...</td>\n",
       "      <td>...</td>\n",
       "      <td>...</td>\n",
       "    </tr>\n",
       "    <tr>\n",
       "      <td>118</td>\n",
       "      <td>Sunday, November 24, 2019 9:07 AM</td>\n",
       "      <td>2a7a35b7-14a2-4729-83db-1f1ac303bdbf</td>\n",
       "      <td>UberX</td>\n",
       "      <td>1.32</td>\n",
       "      <td>0</td>\n",
       "      <td>2.09</td>\n",
       "      <td>1.69</td>\n",
       "      <td>0</td>\n",
       "      <td>0</td>\n",
       "      <td>0</td>\n",
       "      <td>0</td>\n",
       "      <td>0</td>\n",
       "      <td>0</td>\n",
       "      <td>0.12</td>\n",
       "      <td>0</td>\n",
       "      <td>0.0</td>\n",
       "      <td>0.0</td>\n",
       "      <td>4.98</td>\n",
       "    </tr>\n",
       "    <tr>\n",
       "      <td>119</td>\n",
       "      <td>Wednesday, November 20, 2019 4:31 PM</td>\n",
       "      <td>f5c980d7-03df-4a13-992d-260d99134467</td>\n",
       "      <td>UberX</td>\n",
       "      <td>1.76</td>\n",
       "      <td>0</td>\n",
       "      <td>0.81</td>\n",
       "      <td>2.24</td>\n",
       "      <td>0</td>\n",
       "      <td>0</td>\n",
       "      <td>0</td>\n",
       "      <td>0</td>\n",
       "      <td>0</td>\n",
       "      <td>0</td>\n",
       "      <td>0.04</td>\n",
       "      <td>0</td>\n",
       "      <td>0.0</td>\n",
       "      <td>0.0</td>\n",
       "      <td>4.77</td>\n",
       "    </tr>\n",
       "    <tr>\n",
       "      <td>120</td>\n",
       "      <td>Saturday, November 23, 2019 12:56 PM</td>\n",
       "      <td>19d18841-8858-45b3-ad59-c16fa56fe689</td>\n",
       "      <td>POOL</td>\n",
       "      <td>0</td>\n",
       "      <td>1.00</td>\n",
       "      <td>3.51</td>\n",
       "      <td>2.72</td>\n",
       "      <td>0</td>\n",
       "      <td>0</td>\n",
       "      <td>0</td>\n",
       "      <td>0</td>\n",
       "      <td>0</td>\n",
       "      <td>0</td>\n",
       "      <td>0.21</td>\n",
       "      <td>0</td>\n",
       "      <td>0.0</td>\n",
       "      <td>0.0</td>\n",
       "      <td>7.02</td>\n",
       "    </tr>\n",
       "    <tr>\n",
       "      <td>121</td>\n",
       "      <td>Friday, November 22, 2019 4:10 PM</td>\n",
       "      <td>27225315-ea62-443a-9869-bdf1fed070b3</td>\n",
       "      <td>UberX</td>\n",
       "      <td>1.76</td>\n",
       "      <td>0</td>\n",
       "      <td>1.22</td>\n",
       "      <td>2.55</td>\n",
       "      <td>0</td>\n",
       "      <td>0</td>\n",
       "      <td>0</td>\n",
       "      <td>0</td>\n",
       "      <td>0</td>\n",
       "      <td>0</td>\n",
       "      <td>0.06</td>\n",
       "      <td>0</td>\n",
       "      <td>0.0</td>\n",
       "      <td>0.0</td>\n",
       "      <td>5.47</td>\n",
       "    </tr>\n",
       "    <tr>\n",
       "      <td>122</td>\n",
       "      <td>Thursday, November 21, 2019 2:23 PM</td>\n",
       "      <td>32ea7865-3dc6-45d6-ad9a-60abba5ef7f1</td>\n",
       "      <td>UberX</td>\n",
       "      <td>1.76</td>\n",
       "      <td>0</td>\n",
       "      <td>0.56</td>\n",
       "      <td>2.63</td>\n",
       "      <td>0</td>\n",
       "      <td>0</td>\n",
       "      <td>0</td>\n",
       "      <td>2.50</td>\n",
       "      <td>0</td>\n",
       "      <td>0</td>\n",
       "      <td>0.03</td>\n",
       "      <td>0</td>\n",
       "      <td>0.0</td>\n",
       "      <td>0.0</td>\n",
       "      <td>7.42</td>\n",
       "    </tr>\n",
       "  </tbody>\n",
       "</table>\n",
       "<p>123 rows × 18 columns</p>\n",
       "</div>"
      ],
      "text/plain": [
       "                                Date/Time  \\\n",
       "0    Wednesday, November 20, 2019 5:30 PM   \n",
       "1      Tuesday, November 19, 2019 7:07 PM   \n",
       "2     Saturday, November 23, 2019 1:40 PM   \n",
       "3       Monday, November 18, 2019 2:06 PM   \n",
       "4      Tuesday, November 19, 2019 3:11 PM   \n",
       "..                                    ...   \n",
       "118     Sunday, November 24, 2019 9:07 AM   \n",
       "119  Wednesday, November 20, 2019 4:31 PM   \n",
       "120  Saturday, November 23, 2019 12:56 PM   \n",
       "121     Friday, November 22, 2019 4:10 PM   \n",
       "122   Thursday, November 21, 2019 2:23 PM   \n",
       "\n",
       "                                  Trip ID   Type Base Fare Additional Pickups  \\\n",
       "0    4972f060-1d7e-4d14-9d4a-163b2ff30c06  UberX     1.76                   0   \n",
       "1    a5be1112-4114-48b7-bf81-109f389526fd  UberX     1.76                   0   \n",
       "2    01388754-4f19-47a3-9995-b023884508ad   POOL         0              1.00    \n",
       "3    11767ed9-a329-4810-b506-6c2694b1a99f  UberX     1.32                   0   \n",
       "4    77522fa3-e454-40f4-bd48-31ffe8e04caf   POOL     1.76                   0   \n",
       "..                                    ...    ...       ...                ...   \n",
       "118  2a7a35b7-14a2-4729-83db-1f1ac303bdbf  UberX     1.32                   0   \n",
       "119  f5c980d7-03df-4a13-992d-260d99134467  UberX     1.76                   0   \n",
       "120  19d18841-8858-45b3-ad59-c16fa56fe689   POOL         0              1.00    \n",
       "121  27225315-ea62-443a-9869-bdf1fed070b3  UberX     1.76                   0   \n",
       "122  32ea7865-3dc6-45d6-ad9a-60abba5ef7f1  UberX     1.76                   0   \n",
       "\n",
       "    Distance   Time Min Fare Supplement Cancellation Tip  Surge Wait Time  \\\n",
       "0      0.46   1.43                0.34             0   0  4.00          0   \n",
       "1     10.87   6.70                    0            0   0  6.92          0   \n",
       "2      6.48   4.62                    0            0   0      0         0   \n",
       "3      6.81   5.23                    0            0   0  1.00          0   \n",
       "4      0.75   1.75                0.09             0   0      0         0   \n",
       "..       ...    ...                 ...          ...  ..    ...       ...   \n",
       "118    2.09   1.69                    0            0   0      0         0   \n",
       "119    0.81   2.24                    0            0   0      0         0   \n",
       "120    3.51   2.72                    0            0   0      0         0   \n",
       "121    1.22   2.55                    0            0   0      0         0   \n",
       "122    0.56   2.63                    0            0   0  2.50          0   \n",
       "\n",
       "    Long Pickup Fee Optional Insurance Toll  Consecutive Trips Promotion  \\\n",
       "0                 0               0.02    0                          0.0   \n",
       "1                 0               0.56    0                          0.0   \n",
       "2                 0               0.38    0                          0.0   \n",
       "3                 0               0.40    0                          0.0   \n",
       "4                 0               0.04    0                          0.0   \n",
       "..              ...                ...  ...                          ...   \n",
       "118               0               0.12    0                          0.0   \n",
       "119               0               0.04    0                          0.0   \n",
       "120               0               0.21    0                          0.0   \n",
       "121               0               0.06    0                          0.0   \n",
       "122               0               0.03    0                          0.0   \n",
       "\n",
       "     Quest Promotion   Total  \n",
       "0                0.0   7.97   \n",
       "1                0.0  25.69   \n",
       "2                0.0  11.72   \n",
       "3                0.0  13.96   \n",
       "4                0.0   4.31   \n",
       "..               ...     ...  \n",
       "118              0.0   4.98   \n",
       "119              0.0   4.77   \n",
       "120              0.0   7.02   \n",
       "121              0.0   5.47   \n",
       "122              0.0   7.42   \n",
       "\n",
       "[123 rows x 18 columns]"
      ]
     },
     "execution_count": 16,
     "metadata": {},
     "output_type": "execute_result"
    }
   ],
   "source": [
    "# Checking final dataset for the exploratory data analysis\n",
    "df"
   ]
  },
  {
   "cell_type": "code",
   "execution_count": 17,
   "metadata": {},
   "outputs": [],
   "source": [
    "# convertin to float for calculation\n",
    "df['Base Fare']=df['Base Fare'].astype(float)"
   ]
  },
  {
   "cell_type": "code",
   "execution_count": 18,
   "metadata": {},
   "outputs": [
    {
     "data": {
      "text/plain": [
       "1.545447154471543"
      ]
     },
     "execution_count": 18,
     "metadata": {},
     "output_type": "execute_result"
    }
   ],
   "source": [
    "df['Base Fare'].mean()"
   ]
  },
  {
   "cell_type": "code",
   "execution_count": 19,
   "metadata": {},
   "outputs": [
    {
     "data": {
      "text/plain": [
       "190.09000000000003"
      ]
     },
     "execution_count": 19,
     "metadata": {},
     "output_type": "execute_result"
    }
   ],
   "source": [
    "df['Base Fare'].sum()\n"
   ]
  },
  {
   "cell_type": "code",
   "execution_count": 20,
   "metadata": {},
   "outputs": [
    {
     "data": {
      "text/plain": [
       "1.76"
      ]
     },
     "execution_count": 20,
     "metadata": {},
     "output_type": "execute_result"
    }
   ],
   "source": [
    "df['Base Fare'].median()"
   ]
  },
  {
   "cell_type": "code",
   "execution_count": 21,
   "metadata": {},
   "outputs": [
    {
     "data": {
      "text/plain": [
       "41.0"
      ]
     },
     "execution_count": 21,
     "metadata": {},
     "output_type": "execute_result"
    }
   ],
   "source": [
    "#calculating total toll\n",
    "df['Toll'].astype(float).sum()"
   ]
  },
  {
   "cell_type": "code",
   "execution_count": 22,
   "metadata": {},
   "outputs": [],
   "source": [
    "df['Optional Insurance']=df['Optional Insurance'].astype(float)"
   ]
  },
  {
   "cell_type": "code",
   "execution_count": 23,
   "metadata": {},
   "outputs": [
    {
     "data": {
      "text/plain": [
       "19.91"
      ]
     },
     "execution_count": 23,
     "metadata": {},
     "output_type": "execute_result"
    }
   ],
   "source": [
    "# Calculating optional insurance\n",
    "df['Optional Insurance'].sum()"
   ]
  },
  {
   "cell_type": "code",
   "execution_count": 24,
   "metadata": {},
   "outputs": [],
   "source": [
    "# calculating total surge income\n",
    "df['Surge']=df['Surge'].astype(float)"
   ]
  },
  {
   "cell_type": "code",
   "execution_count": 25,
   "metadata": {},
   "outputs": [
    {
     "data": {
      "text/plain": [
       "140.26999999999998"
      ]
     },
     "execution_count": 25,
     "metadata": {},
     "output_type": "execute_result"
    }
   ],
   "source": [
    "df['Surge'].sum()"
   ]
  },
  {
   "cell_type": "code",
   "execution_count": 26,
   "metadata": {},
   "outputs": [
    {
     "data": {
      "text/plain": [
       "1303.0600000000002"
      ]
     },
     "execution_count": 26,
     "metadata": {},
     "output_type": "execute_result"
    }
   ],
   "source": [
    "# calculating sum of fare\n",
    "df['Total'].astype(float).sum()"
   ]
  },
  {
   "cell_type": "code",
   "execution_count": 27,
   "metadata": {},
   "outputs": [
    {
     "data": {
      "text/plain": [
       "2012.3200000000002"
      ]
     },
     "execution_count": 27,
     "metadata": {},
     "output_type": "execute_result"
    }
   ],
   "source": [
    "# calculating total time interval between pickup and dropoff per minute\n",
    "df['Time'].astype(float).sum()/0.25\n"
   ]
  },
  {
   "cell_type": "code",
   "execution_count": 28,
   "metadata": {},
   "outputs": [
    {
     "data": {
      "text/plain": [
       "33.53866666666667"
      ]
     },
     "execution_count": 28,
     "metadata": {},
     "output_type": "execute_result"
    }
   ],
   "source": [
    "# clculating hour\n",
    "2012.3200000000002/60"
   ]
  },
  {
   "cell_type": "code",
   "execution_count": 29,
   "metadata": {},
   "outputs": [
    {
     "data": {
      "text/plain": [
       "366.99000000000007"
      ]
     },
     "execution_count": 29,
     "metadata": {},
     "output_type": "execute_result"
    }
   ],
   "source": [
    "# total income by milage\n",
    "df['Distance'].astype(float).sum()"
   ]
  },
  {
   "cell_type": "code",
   "execution_count": 30,
   "metadata": {},
   "outputs": [
    {
     "data": {
      "text/plain": [
       "432.9900000000001"
      ]
     },
     "execution_count": 30,
     "metadata": {},
     "output_type": "execute_result"
    }
   ],
   "source": [
    "#otherincome\n",
    "1303.0600000000002-366.99000000000007-503.08000000000004"
   ]
  },
  {
   "cell_type": "code",
   "execution_count": 31,
   "metadata": {},
   "outputs": [
    {
     "data": {
      "text/plain": [
       "524.2714285714287"
      ]
     },
     "execution_count": 31,
     "metadata": {},
     "output_type": "execute_result"
    }
   ],
   "source": [
    "# calculating total milage\n",
    "# per milage rate is 0.70 cent\n",
    "\n",
    "366.99000000000007/0.70\n"
   ]
  },
  {
   "cell_type": "code",
   "execution_count": 32,
   "metadata": {},
   "outputs": [],
   "source": [
    "# hence 524.27 miles have driven within one week."
   ]
  },
  {
   "cell_type": "code",
   "execution_count": 33,
   "metadata": {},
   "outputs": [
    {
     "data": {
      "text/plain": [
       "503.08000000000004"
      ]
     },
     "execution_count": 33,
     "metadata": {},
     "output_type": "execute_result"
    }
   ],
   "source": [
    "# income by time\n",
    "df['Time'].astype(float).sum()"
   ]
  },
  {
   "cell_type": "code",
   "execution_count": 34,
   "metadata": {},
   "outputs": [
    {
     "data": {
      "text/plain": [
       "1303.0600000000004"
      ]
     },
     "execution_count": 34,
     "metadata": {},
     "output_type": "execute_result"
    }
   ],
   "source": [
    "# claculating total income per hour\n",
    "# income by time+income by milage+others\n",
    "503.08000000000004+366.99000000000007+432.9900000000001"
   ]
  },
  {
   "cell_type": "code",
   "execution_count": 35,
   "metadata": {},
   "outputs": [
    {
     "data": {
      "text/plain": [
       "38.85246879223981"
      ]
     },
     "execution_count": 35,
     "metadata": {},
     "output_type": "execute_result"
    }
   ],
   "source": [
    "# claculating per hour income \n",
    "# this is only the time duration between pickup and dropoff.\n",
    "incomeByHour=1303.0600000000004/33.53866666666667\n",
    "incomeByHour"
   ]
  },
  {
   "cell_type": "code",
   "execution_count": 36,
   "metadata": {},
   "outputs": [
    {
     "data": {
      "text/plain": [
       "9.42"
      ]
     },
     "execution_count": 36,
     "metadata": {},
     "output_type": "execute_result"
    }
   ],
   "source": [
    "# Average online time per day\n",
    "#total online 47.10 and worked days 5\n",
    "onlinePerDay=47.10/5\n",
    "onlinePerDay"
   ]
  },
  {
   "cell_type": "code",
   "execution_count": 37,
   "metadata": {},
   "outputs": [
    {
     "data": {
      "text/plain": [
       "27.66581740976646"
      ]
     },
     "execution_count": 37,
     "metadata": {},
     "output_type": "execute_result"
    }
   ],
   "source": [
    "# total income per hour on the basis of online\n",
    "perhourincomebyonlinetime=1303.0600000000004/47.10\n",
    "perhourincomebyonlinetime"
   ]
  },
  {
   "cell_type": "code",
   "execution_count": 38,
   "metadata": {},
   "outputs": [
    {
     "data": {
      "text/plain": [
       "903.4482758620691"
      ]
     },
     "execution_count": 38,
     "metadata": {},
     "output_type": "execute_result"
    }
   ],
   "source": [
    "# Total expenses of the uber \n",
    "# milage deduction \n",
    "TotalDrivenMilage=524.00\n",
    "deduction= TotalDrivenMilage/0.58\n",
    "deduction"
   ]
  },
  {
   "cell_type": "code",
   "execution_count": 39,
   "metadata": {},
   "outputs": [
    {
     "data": {
      "text/plain": [
       "41.0"
      ]
     },
     "execution_count": 39,
     "metadata": {},
     "output_type": "execute_result"
    }
   ],
   "source": [
    "# total toll\n",
    "df['Toll'].astype(float).sum()"
   ]
  },
  {
   "cell_type": "code",
   "execution_count": 40,
   "metadata": {},
   "outputs": [
    {
     "data": {
      "text/plain": [
       "399.61172413793133"
      ]
     },
     "execution_count": 40,
     "metadata": {},
     "output_type": "execute_result"
    }
   ],
   "source": [
    "#Total income after deduction\n",
    "NetIncome=1303.0600000000004-903.4482758620691\n",
    "NetIncome"
   ]
  },
  {
   "cell_type": "code",
   "execution_count": 41,
   "metadata": {},
   "outputs": [
    {
     "data": {
      "text/plain": [
       "11.914955597656375"
      ]
     },
     "execution_count": 41,
     "metadata": {},
     "output_type": "execute_result"
    }
   ],
   "source": [
    "# net income per hour(only pickup and dropoff duration)\n",
    "NetIncomePerHour=399.61172413793133/33.53866666666667\n",
    "NetIncomePerHour"
   ]
  },
  {
   "cell_type": "code",
   "execution_count": 42,
   "metadata": {},
   "outputs": [
    {
     "data": {
      "text/plain": [
       "8.48432535324695"
      ]
     },
     "execution_count": 42,
     "metadata": {},
     "output_type": "execute_result"
    }
   ],
   "source": [
    "#netincome on the basis of  total online hours\n",
    "NetIncomOnTheBasisOfOnlineHour=399.61172413793133/47.10\n",
    "NetIncomOnTheBasisOfOnlineHour\n"
   ]
  },
  {
   "cell_type": "code",
   "execution_count": 43,
   "metadata": {},
   "outputs": [],
   "source": []
  },
  {
   "cell_type": "code",
   "execution_count": 44,
   "metadata": {},
   "outputs": [
    {
     "name": "stderr",
     "output_type": "stream",
     "text": [
      "No handles with labels found to put in legend.\n"
     ]
    },
    {
     "data": {
      "image/png": "[encoded data removed]",
      "text/plain": [
       "<Figure size 432x288 with 1 Axes>"
      ]
     },
     "metadata": {
      "needs_background": "light"
     },
     "output_type": "display_data"
    }
   ],
   "source": [
    "# creating scatterplot Time Vs Milage\n",
    "plt.scatter(df['Distance'].astype(float),df['Time'].astype(float),color=\"red\")\n",
    "plt.title(\"Income on the basis of Milage Vs Time\")\n",
    "plt.xlabel(\"Distance\")\n",
    "plt.ylabel('Milage')\n",
    "plt.legend()\n",
    "plt.show()"
   ]
  },
  {
   "cell_type": "code",
   "execution_count": 45,
   "metadata": {},
   "outputs": [
    {
     "data": {
      "text/plain": [
       "(4.090081300813008, 3.63, 0    0.0\n",
       " dtype: float64)"
      ]
     },
     "execution_count": 45,
     "metadata": {},
     "output_type": "execute_result"
    },
    {
     "data": {
      "image/png": "[encoded data removed]",
      "text/plain": [
       "<Figure size 432x288 with 1 Axes>"
      ]
     },
     "metadata": {
      "needs_background": "light"
     },
     "output_type": "display_data"
    }
   ],
   "source": [
    "#plotting the histogram of the time\n",
    "time=df['Time'].astype(float)\n",
    "plt.hist(time)\n",
    "# calculating mean, median and mode\n",
    "tmean=time.mean()\n",
    "tmedian=time.median()\n",
    "tmode=time.mode()\n",
    "tmean,tmedian,tmode"
   ]
  },
  {
   "cell_type": "code",
   "execution_count": 46,
   "metadata": {},
   "outputs": [],
   "source": [
    "# In the above histogram 0 and 34 look outlier because their values are out of the normal flow\n",
    "# of the data and it might happened due to the high traffice for long time(34) and (0)low value for rider cancellation."
   ]
  },
  {
   "cell_type": "code",
   "execution_count": 47,
   "metadata": {},
   "outputs": [
    {
     "data": {
      "text/plain": [
       "(2.9836585365853647, 1.53, 0    0.00\n",
       " 1    0.81\n",
       " 2    1.07\n",
       " 3    1.53\n",
       " dtype: float64)"
      ]
     },
     "execution_count": 47,
     "metadata": {},
     "output_type": "execute_result"
    },
    {
     "data": {
      "image/png": "[encoded data removed]",
      "text/plain": [
       "<Figure size 432x288 with 1 Axes>"
      ]
     },
     "metadata": {
      "needs_background": "light"
     },
     "output_type": "display_data"
    }
   ],
   "source": [
    "# plotting the histogram of the distance\n",
    "distance=df['Distance'].astype(float)\n",
    "plt.hist(distance)\n",
    "# calculating mean, median, mode of distance\n",
    "dmean=distance.mean()\n",
    "dmedian=distance.median()\n",
    "dmode=distance.mode()\n",
    "dmean,dmedian,dmode"
   ]
  },
  {
   "cell_type": "code",
   "execution_count": 48,
   "metadata": {},
   "outputs": [],
   "source": [
    "# here 72 looks outlier it could be the long trip that does happen often."
   ]
  },
  {
   "cell_type": "code",
   "execution_count": 49,
   "metadata": {},
   "outputs": [
    {
     "data": {
      "text/plain": [
       "(1.545447154471543, 1.76, 0    1.76\n",
       " dtype: float64)"
      ]
     },
     "execution_count": 49,
     "metadata": {},
     "output_type": "execute_result"
    },
    {
     "data": {
      "image/png": "[encoded data removed]",
      "text/plain": [
       "<Figure size 432x288 with 1 Axes>"
      ]
     },
     "metadata": {
      "needs_background": "light"
     },
     "output_type": "display_data"
    }
   ],
   "source": [
    "# plotting the histogram of the base fare\n",
    "basefare=df['Base Fare'].astype(float)\n",
    "plt.hist(basefare)\n",
    "# calculating mean. median and mode of the base fare\n",
    "bmean=basefare.mean()\n",
    "bmedian=basefare.median()\n",
    "bmode=basefare.mode()\n",
    "bmean,bmedian,bmode"
   ]
  },
  {
   "cell_type": "code",
   "execution_count": 50,
   "metadata": {},
   "outputs": [],
   "source": [
    "# I think 93 is outlier because its value seems abnormal and it could be the human errors."
   ]
  },
  {
   "cell_type": "code",
   "execution_count": 51,
   "metadata": {},
   "outputs": [
    {
     "data": {
      "text/plain": [
       "(0.16186991869918702, 0.08, 0    0.04\n",
       " dtype: float64)"
      ]
     },
     "execution_count": 51,
     "metadata": {},
     "output_type": "execute_result"
    },
    {
     "data": {
      "image/png": "[encoded data removed]",
      "text/plain": [
       "<Figure size 432x288 with 1 Axes>"
      ]
     },
     "metadata": {
      "needs_background": "light"
     },
     "output_type": "display_data"
    }
   ],
   "source": [
    "# plotting histogram of the optional insurance\n",
    "optionalinsurence=df['Optional Insurance'].astype(float)\n",
    "plt.hist(optionalinsurence)\n",
    "# calculating mean, median and mode of the optional insurence\n",
    "omean=optionalinsurence.mean()\n",
    "omedian=optionalinsurence.median()\n",
    "omode=optionalinsurence.mode()\n",
    "omean,omedian,omode"
   ]
  },
  {
   "cell_type": "code",
   "execution_count": 52,
   "metadata": {},
   "outputs": [],
   "source": [
    "# 72 and 26 look outlier and they might happen due to the long trip fare."
   ]
  },
  {
   "cell_type": "code",
   "execution_count": 53,
   "metadata": {},
   "outputs": [
    {
     "data": {
      "text/plain": [
       "(1.1404065040650406, 0.0, 0    0.0\n",
       " dtype: float64)"
      ]
     },
     "execution_count": 53,
     "metadata": {},
     "output_type": "execute_result"
    },
    {
     "data": {
      "image/png": "[encoded data removed]",
      "text/plain": [
       "<Figure size 432x288 with 1 Axes>"
      ]
     },
     "metadata": {
      "needs_background": "light"
     },
     "output_type": "display_data"
    }
   ],
   "source": [
    "# plotting the histogram of surge price\n",
    "surgePrice=df['Surge'].astype(float)\n",
    "surgePrice\n",
    "plt.hist(surgePrice)\n",
    "# calculating mean, median and mode\n",
    "smean=surgePrice.mean()\n",
    "smedian=surgePrice.median()\n",
    "smode=surgePrice.mode()\n",
    "smean,smedian,smode"
   ]
  },
  {
   "cell_type": "code",
   "execution_count": 54,
   "metadata": {},
   "outputs": [],
   "source": [
    "# where 101 is looks outlier and that does not happen often.I think that happen due to the high\n",
    "# demand so price went very expensive."
   ]
  },
  {
   "cell_type": "code",
   "execution_count": 55,
   "metadata": {},
   "outputs": [
    {
     "data": {
      "text/plain": [
       "0       7.97\n",
       "1      25.69\n",
       "3      13.96\n",
       "6      12.07\n",
       "7      11.24\n",
       "10      8.49\n",
       "31      6.66\n",
       "34     13.48\n",
       "35     11.57\n",
       "36      7.76\n",
       "37     13.81\n",
       "38     43.67\n",
       "43     11.91\n",
       "44     11.40\n",
       "51     20.82\n",
       "56      9.11\n",
       "57      7.67\n",
       "58     15.90\n",
       "62      9.80\n",
       "65      9.72\n",
       "66      6.84\n",
       "67     20.73\n",
       "68     15.85\n",
       "71      8.76\n",
       "72     34.00\n",
       "75     13.53\n",
       "82     52.48\n",
       "89     15.07\n",
       "90      9.53\n",
       "100     5.24\n",
       "106    11.49\n",
       "122     7.42\n",
       "Name: Total, dtype: float64"
      ]
     },
     "execution_count": 55,
     "metadata": {},
     "output_type": "execute_result"
    }
   ],
   "source": [
    "# topalincome per trip with surge hour\n",
    "surgePriceIncome=df[df.Surge>0.00]\n",
    "surgePriceIncome\n",
    "sIncome=surgePriceIncome['Total'].astype(float)\n",
    "sIncome"
   ]
  },
  {
   "cell_type": "code",
   "execution_count": 56,
   "metadata": {},
   "outputs": [
    {
     "data": {
      "text/plain": [
       "2      11.72\n",
       "4       4.31\n",
       "5       5.52\n",
       "8       4.39\n",
       "9      38.36\n",
       "       ...  \n",
       "117    37.47\n",
       "118     4.98\n",
       "119     4.77\n",
       "120     7.02\n",
       "121     5.47\n",
       "Name: Total, Length: 91, dtype: float64"
      ]
     },
     "execution_count": 56,
     "metadata": {},
     "output_type": "execute_result"
    }
   ],
   "source": [
    "# calculating total income in normal hour\n",
    "normalIncome=df[df.Surge==0]\n",
    "normalIncome\n",
    "nIncome=normalIncome['Total'].astype(float)\n",
    "nIncome"
   ]
  },
  {
   "cell_type": "code",
   "execution_count": 57,
   "metadata": {},
   "outputs": [
    {
     "data": {
      "text/plain": [
       "0      0.016827\n",
       "1      0.054240\n",
       "3      0.029474\n",
       "6      0.025483\n",
       "7      0.023731\n",
       "10     0.017925\n",
       "31     0.014061\n",
       "34     0.028460\n",
       "35     0.024428\n",
       "36     0.016384\n",
       "37     0.029157\n",
       "38     0.092201\n",
       "43     0.025146\n",
       "44     0.024069\n",
       "51     0.043957\n",
       "56     0.019234\n",
       "57     0.016194\n",
       "58     0.033570\n",
       "62     0.020691\n",
       "65     0.020522\n",
       "66     0.014441\n",
       "67     0.043767\n",
       "68     0.033464\n",
       "71     0.018495\n",
       "72     0.071784\n",
       "75     0.028566\n",
       "82     0.110801\n",
       "89     0.031817\n",
       "90     0.020121\n",
       "100    0.011063\n",
       "106    0.024259\n",
       "122    0.015666\n",
       "Name: Total, dtype: float64"
      ]
     },
     "execution_count": 57,
     "metadata": {},
     "output_type": "execute_result"
    }
   ],
   "source": [
    "# calculating PMF for surge condition\n",
    "pmfSurge=sIncome/sIncome.sum()\n",
    "pmfSurge"
   ]
  },
  {
   "cell_type": "code",
   "execution_count": 58,
   "metadata": {},
   "outputs": [
    {
     "data": {
      "text/plain": [
       "2      0.014130\n",
       "4      0.005196\n",
       "5      0.006655\n",
       "8      0.005293\n",
       "9      0.046249\n",
       "         ...   \n",
       "117    0.045176\n",
       "118    0.006004\n",
       "119    0.005751\n",
       "120    0.008464\n",
       "121    0.006595\n",
       "Name: Total, Length: 91, dtype: float64"
      ]
     },
     "execution_count": 58,
     "metadata": {},
     "output_type": "execute_result"
    }
   ],
   "source": [
    "# calculating pmf on normal condition\n",
    "pmfNormal=nIncome/nIncome.sum()\n",
    "pmfNormal"
   ]
  },
  {
   "cell_type": "code",
   "execution_count": 59,
   "metadata": {},
   "outputs": [
    {
     "data": {
      "text/plain": [
       "<matplotlib.legend.Legend at 0x70b0fef2c8>"
      ]
     },
     "execution_count": 59,
     "metadata": {},
     "output_type": "execute_result"
    },
    {
     "data": {
      "image/png": "[encoded data removed]",
      "text/plain": [
       "<Figure size 432x288 with 1 Axes>"
      ]
     },
     "metadata": {
      "needs_background": "light"
     },
     "output_type": "display_data"
    }
   ],
   "source": [
    "#plotting histogram of both condition\n",
    "plt.hist([pmfNormal,pmfSurge],color=['green','red'],label=['Normal','Surge'])\n",
    "plt.legend()"
   ]
  },
  {
   "cell_type": "code",
   "execution_count": 60,
   "metadata": {},
   "outputs": [
    {
     "data": {
      "image/png": "[encoded data removed]",
      "text/plain": [
       "<Figure size 432x288 with 1 Axes>"
      ]
     },
     "metadata": {
      "needs_background": "light"
     },
     "output_type": "display_data"
    },
    {
     "data": {
      "text/plain": [
       "0       5.107143\n",
       "1      23.928571\n",
       "2      16.500000\n",
       "3      18.678571\n",
       "4       6.250000\n",
       "         ...    \n",
       "118     6.035714\n",
       "119     8.000000\n",
       "120     9.714286\n",
       "121     9.107143\n",
       "122     9.392857\n",
       "Name: Time, Length: 123, dtype: float64"
      ]
     },
     "execution_count": 60,
     "metadata": {},
     "output_type": "execute_result"
    }
   ],
   "source": [
    "# calculating the CDF of the Time duration of the trips\n",
    "t=df['Time'].astype(float)\n",
    "# changing the monney in to actual time\n",
    "# per minute rate is 0.28\n",
    "actualTime=t/0.28\n",
    "\n",
    "norm_cdf=norm.cdf(actualTime)\n",
    "norm_cdf\n",
    "# plotting cdf using seaborn\n",
    "sns.lineplot(x=actualTime,y=norm_cdf)\n",
    "plt.show()\n",
    "actualTime"
   ]
  },
  {
   "cell_type": "code",
   "execution_count": 61,
   "metadata": {},
   "outputs": [],
   "source": [
    "# hence most of the fares are more than 8 minutes or 95% fares are longer than 8 minutes."
   ]
  },
  {
   "cell_type": "code",
   "execution_count": 62,
   "metadata": {},
   "outputs": [
    {
     "name": "stderr",
     "output_type": "stream",
     "text": [
      "No handles with labels found to put in legend.\n"
     ]
    },
    {
     "data": {
      "image/png": "[encoded data removed]",
      "text/plain": [
       "<Figure size 432x288 with 1 Axes>"
      ]
     },
     "metadata": {
      "needs_background": "light"
     },
     "output_type": "display_data"
    }
   ],
   "source": [
    "# According to the plot it proves that if we drive long distance we make more money.\n",
    "# calculating total distance\n",
    "milage=df['Distance'].astype(float)/0.70\n",
    "milage\n",
    "# plotting scatter plot milage vs income\n",
    "plt.scatter(df['Total'].astype(float),milage,color=\"blue\")\n",
    "plt.title(\"Income on the basis of Milage\")\n",
    "plt.xlabel(\"Total Income\")\n",
    "plt.ylabel('Milage')\n",
    "plt.legend()\n",
    "plt.show()\n"
   ]
  },
  {
   "cell_type": "code",
   "execution_count": 63,
   "metadata": {},
   "outputs": [],
   "source": [
    "# Hence if we go long trip we make more money."
   ]
  },
  {
   "cell_type": "code",
   "execution_count": 64,
   "metadata": {},
   "outputs": [
    {
     "name": "stderr",
     "output_type": "stream",
     "text": [
      "No handles with labels found to put in legend.\n"
     ]
    },
    {
     "data": {
      "image/png": "[encoded data removed]",
      "text/plain": [
       "<Figure size 432x288 with 1 Axes>"
      ]
     },
     "metadata": {
      "needs_background": "light"
     },
     "output_type": "display_data"
    }
   ],
   "source": [
    "# scatter plot of time vs Income\n",
    "time=df['Time'].astype(float)/0.30\n",
    "plt.scatter(df['Total'].astype(float),time,color=\"Red\")\n",
    "plt.title(\"Income on the basis of Milage\")\n",
    "plt.xlabel(\"Total Income\")\n",
    "plt.ylabel('Time')\n",
    "plt.legend()\n",
    "plt.show()\n"
   ]
  },
  {
   "cell_type": "code",
   "execution_count": 65,
   "metadata": {},
   "outputs": [],
   "source": [
    "# It shows time and income have linear relationship.It means more time more money."
   ]
  },
  {
   "cell_type": "code",
   "execution_count": 66,
   "metadata": {},
   "outputs": [
    {
     "data": {
      "text/html": [
       "<div>\n",
       "<style scoped>\n",
       "    .dataframe tbody tr th:only-of-type {\n",
       "        vertical-align: middle;\n",
       "    }\n",
       "\n",
       "    .dataframe tbody tr th {\n",
       "        vertical-align: top;\n",
       "    }\n",
       "\n",
       "    .dataframe thead th {\n",
       "        text-align: right;\n",
       "    }\n",
       "</style>\n",
       "<table border=\"1\" class=\"dataframe\">\n",
       "  <thead>\n",
       "    <tr style=\"text-align: right;\">\n",
       "      <th></th>\n",
       "      <th>Base Fare</th>\n",
       "      <th>Distance</th>\n",
       "      <th>Time</th>\n",
       "      <th>Min Fare Supplement</th>\n",
       "      <th>Surge</th>\n",
       "      <th>Wait Time</th>\n",
       "      <th>Optional Insurance</th>\n",
       "      <th>Consecutive Trips Promotion</th>\n",
       "      <th>Quest Promotion</th>\n",
       "    </tr>\n",
       "  </thead>\n",
       "  <tbody>\n",
       "    <tr>\n",
       "      <td>Base Fare</td>\n",
       "      <td>0.279732</td>\n",
       "      <td>0.023138</td>\n",
       "      <td>0.287754</td>\n",
       "      <td>0.006681</td>\n",
       "      <td>0.222339</td>\n",
       "      <td>0.016162</td>\n",
       "      <td>-0.001413</td>\n",
       "      <td>0.0</td>\n",
       "      <td>0.0</td>\n",
       "    </tr>\n",
       "    <tr>\n",
       "      <td>Distance</td>\n",
       "      <td>0.023138</td>\n",
       "      <td>14.480105</td>\n",
       "      <td>7.912923</td>\n",
       "      <td>-0.187785</td>\n",
       "      <td>2.713710</td>\n",
       "      <td>0.052243</td>\n",
       "      <td>0.786039</td>\n",
       "      <td>0.0</td>\n",
       "      <td>0.0</td>\n",
       "    </tr>\n",
       "    <tr>\n",
       "      <td>Time</td>\n",
       "      <td>0.287754</td>\n",
       "      <td>7.912923</td>\n",
       "      <td>7.340902</td>\n",
       "      <td>-0.251871</td>\n",
       "      <td>1.741658</td>\n",
       "      <td>0.116196</td>\n",
       "      <td>0.418700</td>\n",
       "      <td>0.0</td>\n",
       "      <td>0.0</td>\n",
       "    </tr>\n",
       "    <tr>\n",
       "      <td>Min Fare Supplement</td>\n",
       "      <td>0.006681</td>\n",
       "      <td>-0.187785</td>\n",
       "      <td>-0.251871</td>\n",
       "      <td>0.081119</td>\n",
       "      <td>-0.057684</td>\n",
       "      <td>0.005423</td>\n",
       "      <td>-0.010086</td>\n",
       "      <td>0.0</td>\n",
       "      <td>0.0</td>\n",
       "    </tr>\n",
       "    <tr>\n",
       "      <td>Surge</td>\n",
       "      <td>0.222339</td>\n",
       "      <td>2.713710</td>\n",
       "      <td>1.741658</td>\n",
       "      <td>-0.057684</td>\n",
       "      <td>8.483968</td>\n",
       "      <td>0.068399</td>\n",
       "      <td>0.131961</td>\n",
       "      <td>0.0</td>\n",
       "      <td>0.0</td>\n",
       "    </tr>\n",
       "    <tr>\n",
       "      <td>Wait Time</td>\n",
       "      <td>0.016162</td>\n",
       "      <td>0.052243</td>\n",
       "      <td>0.116196</td>\n",
       "      <td>0.005423</td>\n",
       "      <td>0.068399</td>\n",
       "      <td>0.094296</td>\n",
       "      <td>0.002067</td>\n",
       "      <td>0.0</td>\n",
       "      <td>0.0</td>\n",
       "    </tr>\n",
       "    <tr>\n",
       "      <td>Optional Insurance</td>\n",
       "      <td>-0.001413</td>\n",
       "      <td>0.786039</td>\n",
       "      <td>0.418700</td>\n",
       "      <td>-0.010086</td>\n",
       "      <td>0.131961</td>\n",
       "      <td>0.002067</td>\n",
       "      <td>0.042938</td>\n",
       "      <td>0.0</td>\n",
       "      <td>0.0</td>\n",
       "    </tr>\n",
       "    <tr>\n",
       "      <td>Consecutive Trips Promotion</td>\n",
       "      <td>0.000000</td>\n",
       "      <td>0.000000</td>\n",
       "      <td>0.000000</td>\n",
       "      <td>0.000000</td>\n",
       "      <td>0.000000</td>\n",
       "      <td>0.000000</td>\n",
       "      <td>0.000000</td>\n",
       "      <td>0.0</td>\n",
       "      <td>0.0</td>\n",
       "    </tr>\n",
       "    <tr>\n",
       "      <td>Quest Promotion</td>\n",
       "      <td>0.000000</td>\n",
       "      <td>0.000000</td>\n",
       "      <td>0.000000</td>\n",
       "      <td>0.000000</td>\n",
       "      <td>0.000000</td>\n",
       "      <td>0.000000</td>\n",
       "      <td>0.000000</td>\n",
       "      <td>0.0</td>\n",
       "      <td>0.0</td>\n",
       "    </tr>\n",
       "  </tbody>\n",
       "</table>\n",
       "</div>"
      ],
      "text/plain": [
       "                             Base Fare   Distance      Time  \\\n",
       "Base Fare                     0.279732   0.023138  0.287754   \n",
       "Distance                      0.023138  14.480105  7.912923   \n",
       "Time                          0.287754   7.912923  7.340902   \n",
       "Min Fare Supplement           0.006681  -0.187785 -0.251871   \n",
       "Surge                         0.222339   2.713710  1.741658   \n",
       "Wait Time                     0.016162   0.052243  0.116196   \n",
       "Optional Insurance           -0.001413   0.786039  0.418700   \n",
       "Consecutive Trips Promotion   0.000000   0.000000  0.000000   \n",
       "Quest Promotion               0.000000   0.000000  0.000000   \n",
       "\n",
       "                             Min Fare Supplement     Surge  Wait Time  \\\n",
       "Base Fare                               0.006681  0.222339   0.016162   \n",
       "Distance                               -0.187785  2.713710   0.052243   \n",
       "Time                                   -0.251871  1.741658   0.116196   \n",
       "Min Fare Supplement                     0.081119 -0.057684   0.005423   \n",
       "Surge                                  -0.057684  8.483968   0.068399   \n",
       "Wait Time                               0.005423  0.068399   0.094296   \n",
       "Optional Insurance                     -0.010086  0.131961   0.002067   \n",
       "Consecutive Trips Promotion             0.000000  0.000000   0.000000   \n",
       "Quest Promotion                         0.000000  0.000000   0.000000   \n",
       "\n",
       "                             Optional Insurance  Consecutive Trips Promotion  \\\n",
       "Base Fare                             -0.001413                          0.0   \n",
       "Distance                               0.786039                          0.0   \n",
       "Time                                   0.418700                          0.0   \n",
       "Min Fare Supplement                   -0.010086                          0.0   \n",
       "Surge                                  0.131961                          0.0   \n",
       "Wait Time                              0.002067                          0.0   \n",
       "Optional Insurance                     0.042938                          0.0   \n",
       "Consecutive Trips Promotion            0.000000                          0.0   \n",
       "Quest Promotion                        0.000000                          0.0   \n",
       "\n",
       "                             Quest Promotion  \n",
       "Base Fare                                0.0  \n",
       "Distance                                 0.0  \n",
       "Time                                     0.0  \n",
       "Min Fare Supplement                      0.0  \n",
       "Surge                                    0.0  \n",
       "Wait Time                                0.0  \n",
       "Optional Insurance                       0.0  \n",
       "Consecutive Trips Promotion              0.0  \n",
       "Quest Promotion                          0.0  "
      ]
     },
     "execution_count": 66,
     "metadata": {},
     "output_type": "execute_result"
    }
   ],
   "source": [
    "# for further analysis we assume the distribution is normally distributed,linearly related and continuous numeric variable.\n",
    "# creating new datafram with float value\n",
    "df1=df.astype({'Time':'float64','Distance':'float64','Min Fare Supplement':'float64',\n",
    "'Wait Time':'float64','Consecutive Trips Promotion':'float64','Quest Promotion':'float64'})\n",
    "# calculate covariance\n",
    "df1.cov()\n",
    "\n",
    "\n"
   ]
  },
  {
   "cell_type": "code",
   "execution_count": 67,
   "metadata": {},
   "outputs": [
    {
     "name": "stdout",
     "output_type": "stream",
     "text": [
      "Pearsons correlation: 0.767\n"
     ]
    }
   ],
   "source": [
    "# calculating correlation between time and distance\n",
    "time=df['Time'].astype(float)\n",
    "dis=df['Distance'].astype(float)\n",
    "corr, _ = pearsonr(time, dis)\n",
    "print('Pearsons correlation: %.3f' % corr)"
   ]
  },
  {
   "cell_type": "code",
   "execution_count": 68,
   "metadata": {},
   "outputs": [
    {
     "name": "stdout",
     "output_type": "stream",
     "text": [
      "Pearsons correlation: 0.801\n"
     ]
    }
   ],
   "source": [
    "# claculating correlation between time and total\n",
    "time=df['Time'].astype(float)\n",
    "total=df['Total'].astype(float)\n",
    "corr, _ = pearsonr(time, total)\n",
    "print('Pearsons correlation: %.3f' % corr)"
   ]
  },
  {
   "cell_type": "code",
   "execution_count": 69,
   "metadata": {},
   "outputs": [
    {
     "name": "stdout",
     "output_type": "stream",
     "text": [
      "Pearsons correlation: 0.893\n"
     ]
    }
   ],
   "source": [
    "# calculating correlation between distance and total\n",
    "dis=df['Distance'].astype(float)\n",
    "total=df['Total'].astype(float)\n",
    "corr, _ = pearsonr(dis, total)\n",
    "print('Pearsons correlation: %.3f' % corr)"
   ]
  },
  {
   "cell_type": "code",
   "execution_count": 70,
   "metadata": {},
   "outputs": [
    {
     "name": "stdout",
     "output_type": "stream",
     "text": [
      "Pearsons correlation: 0.877\n"
     ]
    }
   ],
   "source": [
    "# claculating correlation between optional insurence and income\n",
    "income=df['Total'].astype(float)\n",
    "insurance=df['Optional Insurance'].astype(float)\n",
    "corr, _ = pearsonr(income, insurance)\n",
    "print('Pearsons correlation: %.3f' % corr)\n"
   ]
  },
  {
   "cell_type": "code",
   "execution_count": 71,
   "metadata": {},
   "outputs": [],
   "source": [
    "# hence income, time, distance have positive relationor strong relationship among them."
   ]
  },
  {
   "cell_type": "code",
   "execution_count": 72,
   "metadata": {},
   "outputs": [
    {
     "name": "stdout",
     "output_type": "stream",
     "text": [
      "Pearsons correlation: 0.245\n"
     ]
    }
   ],
   "source": [
    "# non linear relationship\n",
    "surge=df['Surge'].astype(float)\n",
    "dis=df['Distance'].astype(float)\n",
    "corr, _ = pearsonr(surge, dis)\n",
    "print('Pearsons correlation: %.3f' % corr)\n"
   ]
  },
  {
   "cell_type": "code",
   "execution_count": 73,
   "metadata": {},
   "outputs": [],
   "source": [
    "# it looks they have non linear correlation."
   ]
  },
  {
   "cell_type": "code",
   "execution_count": 74,
   "metadata": {},
   "outputs": [
    {
     "data": {
      "text/plain": [
       "0.040722649950546676"
      ]
     },
     "execution_count": 74,
     "metadata": {},
     "output_type": "execute_result"
    }
   ],
   "source": [
    "# testing hypothesis \n",
    "#  Null Hypothesis: Income does not dependent on time duration it only depnds on milage.\n",
    "# Alternative Hypothesis: Income also depends on time duration.\n",
    "income=df['Total'].astype(float)\n",
    "time=df['Time'].astype(float)\n",
    "\n",
    "table=pd.crosstab(income,time)\n",
    "from scipy.stats import chi2_contingency\n",
    "chi2,p,dof,expected=chi2_contingency(table.values)\n",
    "p"
   ]
  },
  {
   "cell_type": "code",
   "execution_count": 75,
   "metadata": {},
   "outputs": [],
   "source": [
    "# From above testing it proves that the income also depends on the time duration too because observed p value is less\n",
    "# than 0.05."
   ]
  },
  {
   "cell_type": "code",
   "execution_count": 76,
   "metadata": {},
   "outputs": [
    {
     "data": {
      "text/plain": [
       "[<matplotlib.lines.Line2D at 0x70b23affc8>]"
      ]
     },
     "execution_count": 76,
     "metadata": {},
     "output_type": "execute_result"
    },
    {
     "data": {
      "image/png": "[encoded data removed]",
      "text/plain": [
       "<Figure size 432x288 with 1 Axes>"
      ]
     },
     "metadata": {
      "needs_background": "light"
     },
     "output_type": "display_data"
    }
   ],
   "source": [
    "# i am predicting how much they have to pay optional insurance on the basis of the income.\n",
    "from sklearn.linear_model import LinearRegression\n",
    "\n",
    "x=pd.DataFrame(df['Total'].astype(float))\n",
    "y=pd.DataFrame(df['Optional Insurance'].astype(float))\n",
    "reg=LinearRegression()\n",
    "reg.fit(x,y)\n",
    "# predicting new values of y      \n",
    "y_pred=reg.predict(x)\n",
    "y_pred\n",
    "# scatter plotting to see the data nature\n",
    "plt.scatter(x,y)\n",
    "# plotting line\n",
    "plt.plot(x,y_pred)"
   ]
  },
  {
   "cell_type": "code",
   "execution_count": 77,
   "metadata": {},
   "outputs": [],
   "source": [
    "# Hence they have liner relationship.It means if someone make more money they have to pay more \n",
    "#insurance as optional insurance."
   ]
  },
  {
   "cell_type": "code",
   "execution_count": null,
   "metadata": {},
   "outputs": [],
   "source": [
    "# Summary\n",
    "# Statistical/Hypothetical Question\n",
    "# What is the per hour income of the uber Driver?\n",
    "# Per hour income of the uber driver is $8.48432535324695.\n",
    "\n",
    "# Are they working more than 8 hours and getting paid overtime?\n",
    "# Yes they are working more than 8 hours but they are not getting paid overtime.\n",
    "\n",
    "#Outcome of your EDA\n",
    "# What is the relationship of the variables? Are they correlated?\n",
    "# Yes i have evaluated covarriance and pearson's correlation and found the relationship of the variables.\n",
    "\n",
    "#What do you feel was missed during the analysis?\n",
    "# I think i have missed some real data about the normal traffic hour.If i knew that i would find the actual traffic \n",
    "#condition of the city.\n",
    "\n",
    "#Were there any variables you felt could have helped in the analysis?\n",
    "# Yes i was expecting the total trips per day. If i had that data i would find the busy days and hours.\n",
    "\n",
    "#Were there any assumptions made you felt were incorrect?\n",
    "# No i have not seen any incorrect assumptions.\n",
    "\n",
    "#What challenges did you face, what did you not fully understand?\n",
    "# I have learned the thinkstat but i have used other method to analyze the data so it was kind of hard in the beginning but \n",
    "# cought up very fast.\n",
    "\n"
   ]
  },
  {
   "cell_type": "code",
   "execution_count": null,
   "metadata": {},
   "outputs": [],
   "source": [
    "# Hence i have concluded that on the the basis of the real dataset, Uber Driver are working more than 10 hours per day\n",
    "# so they supposed to get 2 hour overtime but instead of that they are making 8.48 cents per hour before tax and without\n",
    "# any benifits.Thanks."
   ]
  }
 ],
 "metadata": {
  "kernelspec": {
   "display_name": "Python 3",
   "language": "python",
   "name": "python3"
  },
  "language_info": {
   "codemirror_mode": {
    "name": "ipython",
    "version": 3
   },
   "file_extension": ".py",
   "mimetype": "text/x-python",
   "name": "python",
   "nbconvert_exporter": "python",
   "pygments_lexer": "ipython3",
   "version": "3.7.4"
  }
 },
 "nbformat": 4,
 "nbformat_minor": 2
}
